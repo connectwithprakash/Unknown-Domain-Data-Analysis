{
  "nbformat": 4,
  "nbformat_minor": 0,
  "metadata": {
    "colab": {
      "name": "lf_coding_assignment.ipynb",
      "provenance": [],
      "collapsed_sections": []
    },
    "kernelspec": {
      "name": "python3",
      "display_name": "Python 3"
    }
  },
  "cells": [
    {
      "cell_type": "markdown",
      "metadata": {
        "id": "3J9Gry30DiUZ",
        "colab_type": "text"
      },
      "source": [
        "### Mount google drive\n",
        "\n"
      ]
    },
    {
      "cell_type": "code",
      "metadata": {
        "id": "qi6u0tQHDZbB",
        "colab_type": "code",
        "outputId": "51360185-4b48-48fe-a415-b629d7cc1185",
        "colab": {
          "base_uri": "https://localhost:8080/",
          "height": 54
        }
      },
      "source": [
        "# comment these lines if on local machine\n",
        "from google.colab import drive\n",
        "drive.mount(\"/content/drive\")"
      ],
      "execution_count": 1,
      "outputs": [
        {
          "output_type": "stream",
          "text": [
            "Drive already mounted at /content/drive; to attempt to forcibly remount, call drive.mount(\"/content/drive\", force_remount=True).\n"
          ],
          "name": "stdout"
        }
      ]
    },
    {
      "cell_type": "markdown",
      "metadata": {
        "id": "8ctSqlAc7DKF",
        "colab_type": "text"
      },
      "source": [
        "### Importing required libraries"
      ]
    },
    {
      "cell_type": "code",
      "metadata": {
        "id": "GWxTEufZD6cc",
        "colab_type": "code",
        "colab": {}
      },
      "source": [
        "import numpy as np\n",
        "import pandas as pd\n",
        "import seaborn as sns\n",
        "import matplotlib.pyplot as plt\n",
        "\n",
        "import re\n",
        "\n",
        "#from scipy.stats import mode\n",
        "from sklearn.preprocessing import LabelEncoder, StandardScaler\n",
        "from sklearn.model_selection import StratifiedKFold, GridSearchCV\n",
        "from sklearn.svm import SVC\n",
        "from sklearn.ensemble import RandomForestClassifier, ExtraTreesClassifier\n",
        "from sklearn.metrics import confusion_matrix, classification_report, accuracy_score"
      ],
      "execution_count": 0,
      "outputs": []
    },
    {
      "cell_type": "markdown",
      "metadata": {
        "id": "1WM8hiVdm4w7",
        "colab_type": "text"
      },
      "source": [
        "#### Function definitions"
      ]
    },
    {
      "cell_type": "code",
      "metadata": {
        "id": "hiG1f9ikm2iO",
        "colab_type": "code",
        "colab": {}
      },
      "source": [
        "# converts the string which can be converted into float (eg. '0.81')\n",
        "def convert_str_to_float(value):\n",
        "  try:\n",
        "    return float(value)\n",
        "  except:\n",
        "    return value\n",
        "\n",
        "\n",
        "# parsing unstructured data \n",
        "def preprocessing(input_file_path=None, output_file_path=None):\n",
        "  with open(input_file_path) as input_file:\n",
        "    output_list = []\n",
        "    count = 0\n",
        "    for line in input_file.read().split():\n",
        "      count=count+1\n",
        "      line = re.sub('[\" .]','',line)  # regex to replace \" and . to null\n",
        "      line = re.sub(r',','.',line)  # regex to replace , with . to represent floating point values\n",
        "\n",
        "      line = [convert_str_to_float(cell) for cell in line.split(';')] # parsing numerical values\n",
        "\n",
        "      output_list.append(line)\n",
        "      \n",
        "    output_df = pd.DataFrame(output_list[1:], columns=output_list[0])\n",
        "\n",
        "    output_df.to_csv(output_file_path, index=None, header=True)\n",
        "    \n",
        "    print(f'{count} files processed')\n",
        "\n",
        "\n",
        "# converting categorical values to numerical values\n",
        "def convert_categorical_to_numerical(column):\n",
        "  enc = LabelEncoder()\n",
        "  if column.dtype=='O':\n",
        "    column = enc.fit_transform(column)\n",
        "  return column"
      ],
      "execution_count": 0,
      "outputs": []
    },
    {
      "cell_type": "markdown",
      "metadata": {
        "id": "YZmjl_Lh8Ely",
        "colab_type": "text"
      },
      "source": [
        "### Data parsing"
      ]
    },
    {
      "cell_type": "code",
      "metadata": {
        "id": "1rOly8_q8RAw",
        "colab_type": "code",
        "colab": {}
      },
      "source": [
        "train_file_src_path = \"drive/My Drive/Colab Notebooks/Leapfrog/Data/training.csv\"\n",
        "train_file_dst_path = \"drive/My Drive/Colab Notebooks/Leapfrog/Data/processed_training.csv\"\n",
        "test_file_src_path = \"drive/My Drive/Colab Notebooks/Leapfrog/Data/validation.csv\"\n",
        "test_file_dst_path = \"drive/My Drive/Colab Notebooks/Leapfrog/Data/processed_validation.csv\""
      ],
      "execution_count": 0,
      "outputs": []
    },
    {
      "cell_type": "code",
      "metadata": {
        "id": "PVD3sI019nNn",
        "colab_type": "code",
        "outputId": "749d6b47-3e3b-456a-f2b6-54b923284405",
        "colab": {
          "base_uri": "https://localhost:8080/",
          "height": 51
        }
      },
      "source": [
        "preprocessing(train_file_src_path, train_file_dst_path)\n",
        "preprocessing(test_file_src_path, test_file_dst_path)"
      ],
      "execution_count": 5,
      "outputs": [
        {
          "output_type": "stream",
          "text": [
            "3701 files processed\n",
            "201 files processed\n"
          ],
          "name": "stdout"
        }
      ]
    },
    {
      "cell_type": "markdown",
      "metadata": {
        "id": "-Xj0CwiNegZL",
        "colab_type": "text"
      },
      "source": [
        "* **Load training and testing data**"
      ]
    },
    {
      "cell_type": "code",
      "metadata": {
        "id": "OA_xeVaD-ttA",
        "colab_type": "code",
        "outputId": "b8980337-f00b-414a-df01-5a862e78d236",
        "colab": {
          "base_uri": "https://localhost:8080/",
          "height": 131
        }
      },
      "source": [
        "processed_train_file_path = \"drive/My Drive/Colab Notebooks/Leapfrog/Data/processed_training.csv\"\n",
        "\n",
        "train_df  = pd.read_csv(processed_train_file_path)\n",
        "train_df.head(2)"
      ],
      "execution_count": 6,
      "outputs": [
        {
          "output_type": "execute_result",
          "data": {
            "text/html": [
              "<div>\n",
              "<style scoped>\n",
              "    .dataframe tbody tr th:only-of-type {\n",
              "        vertical-align: middle;\n",
              "    }\n",
              "\n",
              "    .dataframe tbody tr th {\n",
              "        vertical-align: top;\n",
              "    }\n",
              "\n",
              "    .dataframe thead th {\n",
              "        text-align: right;\n",
              "    }\n",
              "</style>\n",
              "<table border=\"1\" class=\"dataframe\">\n",
              "  <thead>\n",
              "    <tr style=\"text-align: right;\">\n",
              "      <th></th>\n",
              "      <th>v1</th>\n",
              "      <th>v2</th>\n",
              "      <th>v3</th>\n",
              "      <th>v4</th>\n",
              "      <th>v5</th>\n",
              "      <th>v6</th>\n",
              "      <th>v7</th>\n",
              "      <th>v8</th>\n",
              "      <th>v9</th>\n",
              "      <th>v10</th>\n",
              "      <th>v11</th>\n",
              "      <th>v12</th>\n",
              "      <th>v13</th>\n",
              "      <th>v14</th>\n",
              "      <th>v15</th>\n",
              "      <th>v16</th>\n",
              "      <th>v17</th>\n",
              "      <th>classLabel</th>\n",
              "    </tr>\n",
              "  </thead>\n",
              "  <tbody>\n",
              "    <tr>\n",
              "      <th>0</th>\n",
              "      <td>a</td>\n",
              "      <td>17.92</td>\n",
              "      <td>0.000054</td>\n",
              "      <td>u</td>\n",
              "      <td>-0.840182</td>\n",
              "      <td>0.522883</td>\n",
              "      <td>1.75</td>\n",
              "      <td>f</td>\n",
              "      <td>t</td>\n",
              "      <td>1.0</td>\n",
              "      <td>t</td>\n",
              "      <td>g</td>\n",
              "      <td>80.0</td>\n",
              "      <td>5.0</td>\n",
              "      <td>800000.0</td>\n",
              "      <td>t</td>\n",
              "      <td>0.0</td>\n",
              "      <td>no</td>\n",
              "    </tr>\n",
              "    <tr>\n",
              "      <th>1</th>\n",
              "      <td>b</td>\n",
              "      <td>16.92</td>\n",
              "      <td>0.000034</td>\n",
              "      <td>y</td>\n",
              "      <td>-2.159635</td>\n",
              "      <td>0.774187</td>\n",
              "      <td>0.29</td>\n",
              "      <td>f</td>\n",
              "      <td>f</td>\n",
              "      <td>0.0</td>\n",
              "      <td>f</td>\n",
              "      <td>s</td>\n",
              "      <td>200.0</td>\n",
              "      <td>0.0</td>\n",
              "      <td>2000000.0</td>\n",
              "      <td>NaN</td>\n",
              "      <td>0.0</td>\n",
              "      <td>no</td>\n",
              "    </tr>\n",
              "  </tbody>\n",
              "</table>\n",
              "</div>"
            ],
            "text/plain": [
              "  v1     v2        v3 v4        v5  ...  v14        v15  v16  v17  classLabel\n",
              "0  a  17.92  0.000054  u -0.840182  ...  5.0   800000.0    t  0.0          no\n",
              "1  b  16.92  0.000034  y -2.159635  ...  0.0  2000000.0  NaN  0.0          no\n",
              "\n",
              "[2 rows x 18 columns]"
            ]
          },
          "metadata": {
            "tags": []
          },
          "execution_count": 6
        }
      ]
    },
    {
      "cell_type": "code",
      "metadata": {
        "id": "6HN5SzTH-a9t",
        "colab_type": "code",
        "outputId": "b458c4c6-6918-494e-da62-3b370c02d309",
        "colab": {
          "base_uri": "https://localhost:8080/",
          "height": 131
        }
      },
      "source": [
        "processed_test_file_path = \"drive/My Drive/Colab Notebooks/Leapfrog/Data/processed_validation.csv\"\n",
        "\n",
        "test_df  = pd.read_csv(processed_test_file_path)\n",
        "test_df.head(2)"
      ],
      "execution_count": 7,
      "outputs": [
        {
          "output_type": "execute_result",
          "data": {
            "text/html": [
              "<div>\n",
              "<style scoped>\n",
              "    .dataframe tbody tr th:only-of-type {\n",
              "        vertical-align: middle;\n",
              "    }\n",
              "\n",
              "    .dataframe tbody tr th {\n",
              "        vertical-align: top;\n",
              "    }\n",
              "\n",
              "    .dataframe thead th {\n",
              "        text-align: right;\n",
              "    }\n",
              "</style>\n",
              "<table border=\"1\" class=\"dataframe\">\n",
              "  <thead>\n",
              "    <tr style=\"text-align: right;\">\n",
              "      <th></th>\n",
              "      <th>v1</th>\n",
              "      <th>v2</th>\n",
              "      <th>v3</th>\n",
              "      <th>v4</th>\n",
              "      <th>v5</th>\n",
              "      <th>v6</th>\n",
              "      <th>v7</th>\n",
              "      <th>v8</th>\n",
              "      <th>v9</th>\n",
              "      <th>v10</th>\n",
              "      <th>v11</th>\n",
              "      <th>v12</th>\n",
              "      <th>v13</th>\n",
              "      <th>v14</th>\n",
              "      <th>v15</th>\n",
              "      <th>v16</th>\n",
              "      <th>v17</th>\n",
              "      <th>classLabel</th>\n",
              "    </tr>\n",
              "  </thead>\n",
              "  <tbody>\n",
              "    <tr>\n",
              "      <th>0</th>\n",
              "      <td>b</td>\n",
              "      <td>32.33</td>\n",
              "      <td>0.000750</td>\n",
              "      <td>u</td>\n",
              "      <td>0.840107</td>\n",
              "      <td>0.544982</td>\n",
              "      <td>1.585</td>\n",
              "      <td>t</td>\n",
              "      <td>f</td>\n",
              "      <td>0.0</td>\n",
              "      <td>t</td>\n",
              "      <td>s</td>\n",
              "      <td>420.0</td>\n",
              "      <td>0.0</td>\n",
              "      <td>4200000.0</td>\n",
              "      <td>NaN</td>\n",
              "      <td>1.0</td>\n",
              "      <td>no</td>\n",
              "    </tr>\n",
              "    <tr>\n",
              "      <th>1</th>\n",
              "      <td>b</td>\n",
              "      <td>23.58</td>\n",
              "      <td>0.000179</td>\n",
              "      <td>u</td>\n",
              "      <td>-4.174396</td>\n",
              "      <td>0.864362</td>\n",
              "      <td>0.540</td>\n",
              "      <td>f</td>\n",
              "      <td>f</td>\n",
              "      <td>0.0</td>\n",
              "      <td>t</td>\n",
              "      <td>g</td>\n",
              "      <td>136.0</td>\n",
              "      <td>1.0</td>\n",
              "      <td>1360000.0</td>\n",
              "      <td>NaN</td>\n",
              "      <td>0.0</td>\n",
              "      <td>no</td>\n",
              "    </tr>\n",
              "  </tbody>\n",
              "</table>\n",
              "</div>"
            ],
            "text/plain": [
              "  v1     v2        v3 v4        v5  ...  v14        v15  v16  v17  classLabel\n",
              "0  b  32.33  0.000750  u  0.840107  ...  0.0  4200000.0  NaN  1.0          no\n",
              "1  b  23.58  0.000179  u -4.174396  ...  1.0  1360000.0  NaN  0.0          no\n",
              "\n",
              "[2 rows x 18 columns]"
            ]
          },
          "metadata": {
            "tags": []
          },
          "execution_count": 7
        }
      ]
    },
    {
      "cell_type": "markdown",
      "metadata": {
        "id": "esqKy_Rie4hW",
        "colab_type": "text"
      },
      "source": [
        "#### Data preprocessing"
      ]
    },
    {
      "cell_type": "markdown",
      "metadata": {
        "id": "9xPvqYvpfXqL",
        "colab_type": "text"
      },
      "source": [
        "The  code below shows the count of missing values for all the features\n",
        "```\n",
        "count_nan = len(train_df) - train_df.count()\n",
        "count_nan\n",
        "```\n",
        "---\n",
        "\n",
        "From  the result it is found that the attribute v16 has 2145 values missing from total 3701 instances.\n",
        "\n",
        "*Hence we do not consider this attribute for creating classification model.*\n",
        "\n",
        "---\n",
        "* **Removing column v16 from dataframe**\n"
      ]
    },
    {
      "cell_type": "code",
      "metadata": {
        "id": "X-na48ROe_33",
        "colab_type": "code",
        "colab": {}
      },
      "source": [
        "train_df = train_df.drop(['v16'], axis=1)\n",
        "test_df = test_df.drop(['v16'], axis=1)"
      ],
      "execution_count": 0,
      "outputs": []
    },
    {
      "cell_type": "markdown",
      "metadata": {
        "id": "p-c6gGaQfDOr",
        "colab_type": "text"
      },
      "source": [
        "* **Removing instances with missing values**\n",
        "\n"
      ]
    },
    {
      "cell_type": "code",
      "metadata": {
        "id": "EXZCdOMnltHV",
        "colab_type": "code",
        "colab": {}
      },
      "source": [
        "train_df = train_df.dropna()\n",
        "test_df = test_df.dropna()"
      ],
      "execution_count": 0,
      "outputs": []
    },
    {
      "cell_type": "markdown",
      "metadata": {
        "id": "p0CzOGg_mSzl",
        "colab_type": "text"
      },
      "source": [
        "* **Converting attribute with categorical values to numerical values**"
      ]
    },
    {
      "cell_type": "code",
      "metadata": {
        "id": "T0IZ63IjndWc",
        "colab_type": "code",
        "colab": {}
      },
      "source": [
        "#saving categorical label\n",
        "train_label = train_df.iloc[:,-1]\n",
        "test_label = test_df.iloc[:,-1]\n",
        "\n",
        "train_df = train_df.apply(lambda x: convert_categorical_to_numerical(x), axis=0)\n",
        "test_df = test_df.apply(lambda x: convert_categorical_to_numerical(x), axis=0)"
      ],
      "execution_count": 0,
      "outputs": []
    },
    {
      "cell_type": "code",
      "metadata": {
        "id": "99jRwLa0yY4E",
        "colab_type": "code",
        "outputId": "26642db2-184c-429d-c72b-275549e6343b",
        "colab": {
          "base_uri": "https://localhost:8080/",
          "height": 131
        }
      },
      "source": [
        "train_df.head(2)"
      ],
      "execution_count": 11,
      "outputs": [
        {
          "output_type": "execute_result",
          "data": {
            "text/html": [
              "<div>\n",
              "<style scoped>\n",
              "    .dataframe tbody tr th:only-of-type {\n",
              "        vertical-align: middle;\n",
              "    }\n",
              "\n",
              "    .dataframe tbody tr th {\n",
              "        vertical-align: top;\n",
              "    }\n",
              "\n",
              "    .dataframe thead th {\n",
              "        text-align: right;\n",
              "    }\n",
              "</style>\n",
              "<table border=\"1\" class=\"dataframe\">\n",
              "  <thead>\n",
              "    <tr style=\"text-align: right;\">\n",
              "      <th></th>\n",
              "      <th>v1</th>\n",
              "      <th>v2</th>\n",
              "      <th>v3</th>\n",
              "      <th>v4</th>\n",
              "      <th>v5</th>\n",
              "      <th>v6</th>\n",
              "      <th>v7</th>\n",
              "      <th>v8</th>\n",
              "      <th>v9</th>\n",
              "      <th>v10</th>\n",
              "      <th>v11</th>\n",
              "      <th>v12</th>\n",
              "      <th>v13</th>\n",
              "      <th>v14</th>\n",
              "      <th>v15</th>\n",
              "      <th>v17</th>\n",
              "      <th>classLabel</th>\n",
              "    </tr>\n",
              "  </thead>\n",
              "  <tbody>\n",
              "    <tr>\n",
              "      <th>0</th>\n",
              "      <td>0</td>\n",
              "      <td>17.92</td>\n",
              "      <td>0.000054</td>\n",
              "      <td>1</td>\n",
              "      <td>-0.840182</td>\n",
              "      <td>0.522883</td>\n",
              "      <td>1.75</td>\n",
              "      <td>0</td>\n",
              "      <td>1</td>\n",
              "      <td>1.0</td>\n",
              "      <td>1</td>\n",
              "      <td>0</td>\n",
              "      <td>80.0</td>\n",
              "      <td>5.0</td>\n",
              "      <td>800000.0</td>\n",
              "      <td>0.0</td>\n",
              "      <td>0</td>\n",
              "    </tr>\n",
              "    <tr>\n",
              "      <th>1</th>\n",
              "      <td>1</td>\n",
              "      <td>16.92</td>\n",
              "      <td>0.000034</td>\n",
              "      <td>2</td>\n",
              "      <td>-2.159635</td>\n",
              "      <td>0.774187</td>\n",
              "      <td>0.29</td>\n",
              "      <td>0</td>\n",
              "      <td>0</td>\n",
              "      <td>0.0</td>\n",
              "      <td>0</td>\n",
              "      <td>2</td>\n",
              "      <td>200.0</td>\n",
              "      <td>0.0</td>\n",
              "      <td>2000000.0</td>\n",
              "      <td>0.0</td>\n",
              "      <td>0</td>\n",
              "    </tr>\n",
              "  </tbody>\n",
              "</table>\n",
              "</div>"
            ],
            "text/plain": [
              "   v1     v2        v3  v4        v5  ...    v13  v14        v15  v17  classLabel\n",
              "0   0  17.92  0.000054   1 -0.840182  ...   80.0  5.0   800000.0  0.0           0\n",
              "1   1  16.92  0.000034   2 -2.159635  ...  200.0  0.0  2000000.0  0.0           0\n",
              "\n",
              "[2 rows x 17 columns]"
            ]
          },
          "metadata": {
            "tags": []
          },
          "execution_count": 11
        }
      ]
    },
    {
      "cell_type": "markdown",
      "metadata": {
        "id": "jRIHvE7jthdG",
        "colab_type": "text"
      },
      "source": [
        "* **Attributes correlation plot for feature selection**"
      ]
    },
    {
      "cell_type": "code",
      "metadata": {
        "id": "BEdJNBRBt0mY",
        "colab_type": "code",
        "outputId": "d913605e-6501-4ab4-f6ca-7f05356d9266",
        "colab": {
          "base_uri": "https://localhost:8080/",
          "height": 340
        }
      },
      "source": [
        "plt.figure(figsize=(12,4))\n",
        "ax1 = plt.subplot(1,2,1)\n",
        "ax1.title.set_text(\"Train set attributes correlation\")\n",
        "sns.heatmap(train_df.corr(), ax=ax1)\n",
        "\n",
        "ax2 = plt.subplot(1,2,2)\n",
        "ax2.title.set_text(\"Test set attributes correlation\")\n",
        "sns.heatmap(test_df.corr(), ax=ax2)\n",
        "\n",
        "plt.plot()"
      ],
      "execution_count": 12,
      "outputs": [
        {
          "output_type": "execute_result",
          "data": {
            "text/plain": [
              "[]"
            ]
          },
          "metadata": {
            "tags": []
          },
          "execution_count": 12
        },
        {
          "output_type": "display_data",
          "data": {
            "image/png": "[encoded data removed]",
            "text/plain": [
              "<Figure size 864x288 with 4 Axes>"
            ]
          },
          "metadata": {
            "tags": []
          }
        }
      ]
    },
    {
      "cell_type": "markdown",
      "metadata": {
        "id": "jiqV3_hNt4Er",
        "colab_type": "text"
      },
      "source": [
        "* From the above plot we can see that the attributes v17 and classLabel are perfectly correlated with correlation coefficient of 1 which signifies that both are same attribute.\n",
        "> This attribute v17 can be considered as the ultimate predictor for classLabel. But with this two cases are possible,\n",
        "  1.   The real data also have the same pattern and this is something we have no idea of\n",
        "  2.   The real data do not have the same pattern (Also seen from test data)\n",
        "  >\n",
        "Looking at scenario it is better to just discard this feature, also because this feature will put other significant attributes under shadow.\n",
        "\n",
        "*  Also v13 and v15 are perfectly correlated\n",
        "---\n",
        "*Hence we donot consider feature v15 and v17*\n",
        "\n",
        "---\n",
        "\n",
        "* **Removing features v15 and v17**"
      ]
    },
    {
      "cell_type": "code",
      "metadata": {
        "id": "UP-PIBKo4YwU",
        "colab_type": "code",
        "colab": {}
      },
      "source": [
        "train_df = train_df.drop(['v15', 'v17'], axis=1)\n",
        "test_df = test_df.drop(['v15', 'v17'], axis=1)"
      ],
      "execution_count": 0,
      "outputs": []
    },
    {
      "cell_type": "markdown",
      "metadata": {
        "id": "2W7b2ypSpFV8",
        "colab_type": "text"
      },
      "source": [
        "* **Standarizing dataframe so that the the attribute values follow its own distribution**\n",
        "\n",
        "    *Also different statistical analysis can be performed like data deviation, outlier*"
      ]
    },
    {
      "cell_type": "code",
      "metadata": {
        "id": "xxW3cHGh3sHx",
        "colab_type": "code",
        "colab": {}
      },
      "source": [
        "std = StandardScaler()\n",
        "\n",
        "train_df = pd.DataFrame(std.fit_transform(train_df), columns=train_df.columns)\n",
        "test_df = pd.DataFrame(std.transform(test_df), columns=test_df.columns)"
      ],
      "execution_count": 0,
      "outputs": []
    },
    {
      "cell_type": "markdown",
      "metadata": {
        "id": "B61Vk-lO95fM",
        "colab_type": "text"
      },
      "source": [
        "* **Split df to X and y**"
      ]
    },
    {
      "cell_type": "code",
      "metadata": {
        "id": "UtOAQO6bCTjy",
        "colab_type": "code",
        "colab": {}
      },
      "source": [
        "X_train = train_df.iloc[:,:-1]\n",
        "y_train = train_label\n",
        "\n",
        "X_test = test_df.iloc[:,:-1]\n",
        "y_test = test_label"
      ],
      "execution_count": 0,
      "outputs": []
    },
    {
      "cell_type": "markdown",
      "metadata": {
        "id": "G9T5fwbEGsfl",
        "colab_type": "text"
      },
      "source": [
        "#### Model Selection\n",
        "\n",
        "Model was selected doing a grid search over various combination of parameters and for randomforest, extratree and SVC"
      ]
    },
    {
      "cell_type": "code",
      "metadata": {
        "id": "7ZxgLJQYHnr-",
        "colab_type": "code",
        "colab": {
          "base_uri": "https://localhost:8080/",
          "height": 85
        },
        "outputId": "c78eee41-1062-49ce-cb3f-6cef334577a5"
      },
      "source": [
        "# the given training dataset is highly imbalanced\n",
        "# hence class_weight parameter of model is set to balanced to give unequal weight to different class\n",
        "model= SVC(kernel='sigmoid',C=1,class_weight='balanced')\n",
        "model.fit(X_train,y_train)"
      ],
      "execution_count": 16,
      "outputs": [
        {
          "output_type": "execute_result",
          "data": {
            "text/plain": [
              "SVC(C=1, cache_size=200, class_weight='balanced', coef0=0.0,\n",
              "    decision_function_shape='ovr', degree=3, gamma='auto_deprecated',\n",
              "    kernel='sigmoid', max_iter=-1, probability=False, random_state=None,\n",
              "    shrinking=True, tol=0.001, verbose=False)"
            ]
          },
          "metadata": {
            "tags": []
          },
          "execution_count": 16
        }
      ]
    },
    {
      "cell_type": "code",
      "metadata": {
        "id": "ppjcONZNNHru",
        "colab_type": "code",
        "colab": {}
      },
      "source": [
        "# test data prediction\n",
        "y_pred = model.predict(X_test)"
      ],
      "execution_count": 0,
      "outputs": []
    },
    {
      "cell_type": "markdown",
      "metadata": {
        "id": "qYE18XhwMPPK",
        "colab_type": "text"
      },
      "source": [
        "#### Different metric analysis for model"
      ]
    },
    {
      "cell_type": "markdown",
      "metadata": {
        "id": "ORORc7imMXcF",
        "colab_type": "text"
      },
      "source": [
        "* **Accuracy**"
      ]
    },
    {
      "cell_type": "code",
      "metadata": {
        "id": "UTyLOHO0Jppw",
        "colab_type": "code",
        "colab": {
          "base_uri": "https://localhost:8080/",
          "height": 34
        },
        "outputId": "67ff16c5-7c8f-45b1-af90-2940538242b2"
      },
      "source": [
        "accuracy = accuracy_score(y_test, y_pred)\n",
        "print(\"Accuracy : {0:.2f} %\".format(accuracy*100))"
      ],
      "execution_count": 18,
      "outputs": [
        {
          "output_type": "stream",
          "text": [
            "Accuracy : 84.82 %\n"
          ],
          "name": "stdout"
        }
      ]
    },
    {
      "cell_type": "markdown",
      "metadata": {
        "id": "3FSAMcejN4td",
        "colab_type": "text"
      },
      "source": [
        "* **Confusion matrix**"
      ]
    },
    {
      "cell_type": "code",
      "metadata": {
        "id": "Q3ymXQwEN8ir",
        "colab_type": "code",
        "colab": {
          "base_uri": "https://localhost:8080/",
          "height": 449
        },
        "outputId": "52479232-e371-4ec3-b87d-33d351d36051"
      },
      "source": [
        "conf_matrix = confusion_matrix(convert_categorical_to_numerical(y_test),\n",
        "                               convert_categorical_to_numerical(y_pred))\n",
        "total = np.sum(conf_matrix, axis=1)\n",
        "conf_matrix = np.round(conf_matrix/total,2)\n",
        "\n",
        "df_cm = pd.DataFrame(conf_matrix, index = ['no', 'yes'],\n",
        "                  columns = ['no', 'yes'])\n",
        "plt.figure(figsize = (10,7))\n",
        "sns.heatmap(df_cm, annot=True)"
      ],
      "execution_count": 19,
      "outputs": [
        {
          "output_type": "execute_result",
          "data": {
            "text/plain": [
              "<matplotlib.axes._subplots.AxesSubplot at 0x7f0e73682e48>"
            ]
          },
          "metadata": {
            "tags": []
          },
          "execution_count": 19
        },
        {
          "output_type": "display_data",
          "data": {
            "image/png": "[encoded data removed]",
            "text/plain": [
              "<Figure size 720x504 with 2 Axes>"
            ]
          },
          "metadata": {
            "tags": []
          }
        }
      ]
    },
    {
      "cell_type": "markdown",
      "metadata": {
        "id": "8HuHlPFPMf0V",
        "colab_type": "text"
      },
      "source": [
        "* **Classification report**"
      ]
    },
    {
      "cell_type": "code",
      "metadata": {
        "id": "V0goqC8ohpG0",
        "colab_type": "code",
        "colab": {
          "base_uri": "https://localhost:8080/",
          "height": 170
        },
        "outputId": "3b446600-a021-4fdc-da61-2c7840041b1c"
      },
      "source": [
        "print(classification_report(y_test,y_pred))"
      ],
      "execution_count": 20,
      "outputs": [
        {
          "output_type": "stream",
          "text": [
            "              precision    recall  f1-score   support\n",
            "\n",
            "          no       0.88      0.82      0.85        99\n",
            "         yes       0.82      0.88      0.85        92\n",
            "\n",
            "    accuracy                           0.85       191\n",
            "   macro avg       0.85      0.85      0.85       191\n",
            "weighted avg       0.85      0.85      0.85       191\n",
            "\n"
          ],
          "name": "stdout"
        }
      ]
    },
    {
      "cell_type": "markdown",
      "metadata": {
        "id": "NWb_S4RPSKHN",
        "colab_type": "text"
      },
      "source": [
        "### Conclusion\n",
        "\n",
        "**Neural network was als tested but the accuracy was only small increase i.e. 86% with higher uncertainity to replicate the same result.**\n",
        "\n",
        "---\n",
        "Hence svm model with sigmoid kernel was choosen as final classification model.\n",
        "\n",
        "---"
      ]
    }
  ]
}